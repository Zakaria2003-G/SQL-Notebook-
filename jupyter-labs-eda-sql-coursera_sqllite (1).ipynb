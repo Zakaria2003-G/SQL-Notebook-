{
 "cells": [
  {
   "cell_type": "markdown",
   "metadata": {},
   "source": [
    "<p style=\"text-align:center\">\n",
    "    <a href=\"https://skills.network\" target=\"_blank\">\n",
    "    <img src=\"https://cf-courses-data.s3.us.cloud-object-storage.appdomain.cloud/assets/logos/SN_web_lightmode.png\" width=\"200\" alt=\"Skills Network Logo\">\n",
    "    </a>\n",
    "</p>\n",
    "\n",
    "<h1 align=center><font size = 5>Assignment: SQL Notebook for Peer Assignment</font></h1>\n",
    "\n",
    "Estimated time needed: **60** minutes.\n",
    "\n",
    "## Introduction\n",
    "Using this Python notebook you will:\n",
    "\n",
    "1.  Understand the Spacex DataSet\n",
    "2.  Load the dataset  into the corresponding table in a Db2 database\n",
    "3.  Execute SQL queries to answer assignment questions \n"
   ]
  },
  {
   "cell_type": "markdown",
   "metadata": {},
   "source": [
    "## Overview of the DataSet\n",
    "\n",
    "SpaceX has gained worldwide attention for a series of historic milestones. \n",
    "\n",
    "It is the only private company ever to return a spacecraft from low-earth orbit, which it first accomplished in December 2010.\n",
    "SpaceX advertises Falcon 9 rocket launches on its website with a cost of 62 million dollars wheras other providers cost upward of 165 million dollars each, much of the savings is because Space X can reuse the first stage. \n",
    "\n",
    "\n",
    "Therefore if we can determine if the first stage will land, we can determine the cost of a launch. \n",
    "\n",
    "This information can be used if an alternate company wants to bid against SpaceX for a rocket launch.\n",
    "\n",
    "This dataset includes a record for each payload carried during a SpaceX mission into outer space.\n"
   ]
  },
  {
   "cell_type": "markdown",
   "metadata": {},
   "source": [
    "### Download the datasets\n",
    "\n",
    "This assignment requires you to load the spacex dataset.\n",
    "\n",
    "In many cases the dataset to be analyzed is available as a .CSV (comma separated values) file, perhaps on the internet. Click on the link below to download and save the dataset (.CSV file):\n",
    "\n",
    " <a href=\"https://cf-courses-data.s3.us.cloud-object-storage.appdomain.cloud/IBM-DS0321EN-SkillsNetwork/labs/module_2/data/Spacex.csv\" target=\"_blank\">Spacex DataSet</a>\n",
    "\n"
   ]
  },
  {
   "cell_type": "code",
   "execution_count": 15,
   "metadata": {
    "tags": []
   },
   "outputs": [
    {
     "name": "stdout",
     "output_type": "stream",
     "text": [
      "Requirement already satisfied: sqlalchemy==1.3.9 in /home/jupyterlab/conda/envs/python/lib/python3.7/site-packages (1.3.9)\n",
      "Requirement already satisfied: pandas in /home/jupyterlab/conda/envs/python/lib/python3.7/site-packages (1.1.5)\n",
      "Requirement already satisfied: python-dateutil>=2.7.3 in /home/jupyterlab/conda/envs/python/lib/python3.7/site-packages (from pandas) (2.8.2)\n",
      "Requirement already satisfied: pytz>=2017.2 in /home/jupyterlab/conda/envs/python/lib/python3.7/site-packages (from pandas) (2023.3)\n",
      "Requirement already satisfied: numpy>=1.15.4 in /home/jupyterlab/conda/envs/python/lib/python3.7/site-packages (from pandas) (1.21.6)\n",
      "Requirement already satisfied: six>=1.5 in /home/jupyterlab/conda/envs/python/lib/python3.7/site-packages (from python-dateutil>=2.7.3->pandas) (1.16.0)\n"
     ]
    }
   ],
   "source": [
    "!pip install sqlalchemy==1.3.9\n",
    "!pip install pandas\n",
    "\n",
    "\n"
   ]
  },
  {
   "cell_type": "markdown",
   "metadata": {},
   "source": [
    "### Connect to the database\n",
    "\n",
    "Let us first load the SQL extension and establish a connection with the database\n"
   ]
  },
  {
   "cell_type": "code",
   "execution_count": 2,
   "metadata": {
    "tags": []
   },
   "outputs": [],
   "source": [
    "%load_ext sql"
   ]
  },
  {
   "cell_type": "code",
   "execution_count": 3,
   "metadata": {
    "tags": []
   },
   "outputs": [],
   "source": [
    "import csv, sqlite3\n",
    "\n",
    "con = sqlite3.connect(\"my_data1.db\")\n",
    "cur = con.cursor()"
   ]
  },
  {
   "cell_type": "code",
   "execution_count": 29,
   "metadata": {
    "tags": []
   },
   "outputs": [
    {
     "name": "stdout",
     "output_type": "stream",
     "text": [
      "Requirement already satisfied: pandas in /home/jupyterlab/conda/envs/python/lib/python3.7/site-packages (1.1.5)\n",
      "Collecting pandas\n",
      "  Downloading pandas-1.3.5-cp37-cp37m-manylinux_2_17_x86_64.manylinux2014_x86_64.whl (11.3 MB)\n",
      "\u001b[2K     \u001b[90m━━━━━━━━━━━━━━━━━━━━━━━━━━━━━━━━━━━━━━━━\u001b[0m \u001b[32m11.3/11.3 MB\u001b[0m \u001b[31m85.8 MB/s\u001b[0m eta \u001b[36m0:00:00\u001b[0m00:01\u001b[0m00:01\u001b[0m\n",
      "\u001b[?25hRequirement already satisfied: python-dateutil>=2.7.3 in /home/jupyterlab/conda/envs/python/lib/python3.7/site-packages (from pandas) (2.8.2)\n",
      "Requirement already satisfied: pytz>=2017.3 in /home/jupyterlab/conda/envs/python/lib/python3.7/site-packages (from pandas) (2023.3)\n",
      "Requirement already satisfied: numpy>=1.17.3 in /home/jupyterlab/conda/envs/python/lib/python3.7/site-packages (from pandas) (1.21.6)\n",
      "Requirement already satisfied: six>=1.5 in /home/jupyterlab/conda/envs/python/lib/python3.7/site-packages (from python-dateutil>=2.7.3->pandas) (1.16.0)\n",
      "Installing collected packages: pandas\n",
      "  Attempting uninstall: pandas\n",
      "    Found existing installation: pandas 1.1.5\n",
      "    Uninstalling pandas-1.1.5:\n",
      "      Successfully uninstalled pandas-1.1.5\n",
      "Successfully installed pandas-1.3.5\n"
     ]
    }
   ],
   "source": [
    "!pip install -q pandas==1.1.5\n",
    "!pip install --upgrade pandas\n"
   ]
  },
  {
   "cell_type": "code",
   "execution_count": 5,
   "metadata": {
    "tags": []
   },
   "outputs": [
    {
     "data": {
      "text/plain": [
       "'Connected: @my_data1.db'"
      ]
     },
     "execution_count": 5,
     "metadata": {},
     "output_type": "execute_result"
    }
   ],
   "source": [
    "%sql sqlite:///my_data1.db"
   ]
  },
  {
   "cell_type": "code",
   "execution_count": 34,
   "metadata": {
    "tags": []
   },
   "outputs": [
    {
     "name": "stderr",
     "output_type": "stream",
     "text": [
      "/home/jupyterlab/conda/envs/python/lib/python3.7/site-packages/pandas/core/generic.py:2882: UserWarning: The spaces in these column names will not be changed. In pandas versions < 0.14, spaces were converted to underscores.\n",
      "  both result in 0.1234 being formatted as 0.12.\n"
     ]
    },
    {
     "data": {
      "text/html": [
       "<div>\n",
       "<style scoped>\n",
       "    .dataframe tbody tr th:only-of-type {\n",
       "        vertical-align: middle;\n",
       "    }\n",
       "\n",
       "    .dataframe tbody tr th {\n",
       "        vertical-align: top;\n",
       "    }\n",
       "\n",
       "    .dataframe thead th {\n",
       "        text-align: right;\n",
       "    }\n",
       "</style>\n",
       "<table border=\"1\" class=\"dataframe\">\n",
       "  <thead>\n",
       "    <tr style=\"text-align: right;\">\n",
       "      <th></th>\n",
       "      <th>Date</th>\n",
       "      <th>Time (UTC)</th>\n",
       "      <th>Booster_Version</th>\n",
       "      <th>Launch_Site</th>\n",
       "      <th>Payload</th>\n",
       "      <th>PAYLOAD_MASS__KG_</th>\n",
       "      <th>Orbit</th>\n",
       "      <th>Customer</th>\n",
       "      <th>Mission_Outcome</th>\n",
       "      <th>Landing_Outcome</th>\n",
       "    </tr>\n",
       "  </thead>\n",
       "  <tbody>\n",
       "    <tr>\n",
       "      <th>0</th>\n",
       "      <td>2010-04-06</td>\n",
       "      <td>18:45:00</td>\n",
       "      <td>F9 v1.0  B0003</td>\n",
       "      <td>CCAFS LC-40</td>\n",
       "      <td>Dragon Spacecraft Qualification Unit</td>\n",
       "      <td>0</td>\n",
       "      <td>LEO</td>\n",
       "      <td>SpaceX</td>\n",
       "      <td>Success</td>\n",
       "      <td>Failure (parachute)</td>\n",
       "    </tr>\n",
       "    <tr>\n",
       "      <th>1</th>\n",
       "      <td>2010-08-12</td>\n",
       "      <td>15:43:00</td>\n",
       "      <td>F9 v1.0  B0004</td>\n",
       "      <td>CCAFS LC-40</td>\n",
       "      <td>Dragon demo flight C1, two CubeSats, barrel of...</td>\n",
       "      <td>0</td>\n",
       "      <td>LEO (ISS)</td>\n",
       "      <td>NASA (COTS) NRO</td>\n",
       "      <td>Success</td>\n",
       "      <td>Failure (parachute)</td>\n",
       "    </tr>\n",
       "    <tr>\n",
       "      <th>2</th>\n",
       "      <td>2012-05-22</td>\n",
       "      <td>07:44:00</td>\n",
       "      <td>F9 v1.0  B0005</td>\n",
       "      <td>CCAFS LC-40</td>\n",
       "      <td>Dragon demo flight C2</td>\n",
       "      <td>525</td>\n",
       "      <td>LEO (ISS)</td>\n",
       "      <td>NASA (COTS)</td>\n",
       "      <td>Success</td>\n",
       "      <td>No attempt</td>\n",
       "    </tr>\n",
       "    <tr>\n",
       "      <th>3</th>\n",
       "      <td>2012-08-10</td>\n",
       "      <td>00:35:00</td>\n",
       "      <td>F9 v1.0  B0006</td>\n",
       "      <td>CCAFS LC-40</td>\n",
       "      <td>SpaceX CRS-1</td>\n",
       "      <td>500</td>\n",
       "      <td>LEO (ISS)</td>\n",
       "      <td>NASA (CRS)</td>\n",
       "      <td>Success</td>\n",
       "      <td>No attempt</td>\n",
       "    </tr>\n",
       "    <tr>\n",
       "      <th>4</th>\n",
       "      <td>2013-01-03</td>\n",
       "      <td>15:10:00</td>\n",
       "      <td>F9 v1.0  B0007</td>\n",
       "      <td>CCAFS LC-40</td>\n",
       "      <td>SpaceX CRS-2</td>\n",
       "      <td>677</td>\n",
       "      <td>LEO (ISS)</td>\n",
       "      <td>NASA (CRS)</td>\n",
       "      <td>Success</td>\n",
       "      <td>No attempt</td>\n",
       "    </tr>\n",
       "    <tr>\n",
       "      <th>5</th>\n",
       "      <td>2013-09-29</td>\n",
       "      <td>16:00:00</td>\n",
       "      <td>F9 v1.1  B1003</td>\n",
       "      <td>VAFB SLC-4E</td>\n",
       "      <td>CASSIOPE</td>\n",
       "      <td>500</td>\n",
       "      <td>Polar LEO</td>\n",
       "      <td>MDA</td>\n",
       "      <td>Success</td>\n",
       "      <td>Uncontrolled (ocean)</td>\n",
       "    </tr>\n",
       "    <tr>\n",
       "      <th>6</th>\n",
       "      <td>2013-03-12</td>\n",
       "      <td>22:41:00</td>\n",
       "      <td>F9 v1.1</td>\n",
       "      <td>CCAFS LC-40</td>\n",
       "      <td>SES-8</td>\n",
       "      <td>3170</td>\n",
       "      <td>GTO</td>\n",
       "      <td>SES</td>\n",
       "      <td>Success</td>\n",
       "      <td>No attempt</td>\n",
       "    </tr>\n",
       "    <tr>\n",
       "      <th>7</th>\n",
       "      <td>2014-06-01</td>\n",
       "      <td>22:06:00</td>\n",
       "      <td>F9 v1.1</td>\n",
       "      <td>CCAFS LC-40</td>\n",
       "      <td>Thaicom 6</td>\n",
       "      <td>3325</td>\n",
       "      <td>GTO</td>\n",
       "      <td>Thaicom</td>\n",
       "      <td>Success</td>\n",
       "      <td>No attempt</td>\n",
       "    </tr>\n",
       "    <tr>\n",
       "      <th>8</th>\n",
       "      <td>2014-04-18</td>\n",
       "      <td>19:25:00</td>\n",
       "      <td>F9 v1.1</td>\n",
       "      <td>CCAFS LC-40</td>\n",
       "      <td>SpaceX CRS-3</td>\n",
       "      <td>2296</td>\n",
       "      <td>LEO (ISS)</td>\n",
       "      <td>NASA (CRS)</td>\n",
       "      <td>Success</td>\n",
       "      <td>Controlled (ocean)</td>\n",
       "    </tr>\n",
       "    <tr>\n",
       "      <th>9</th>\n",
       "      <td>2014-07-14</td>\n",
       "      <td>15:15:00</td>\n",
       "      <td>F9 v1.1</td>\n",
       "      <td>CCAFS LC-40</td>\n",
       "      <td>OG2 Mission 1  6 Orbcomm-OG2 satellites</td>\n",
       "      <td>1316</td>\n",
       "      <td>LEO</td>\n",
       "      <td>Orbcomm</td>\n",
       "      <td>Success</td>\n",
       "      <td>Controlled (ocean)</td>\n",
       "    </tr>\n",
       "  </tbody>\n",
       "</table>\n",
       "</div>"
      ],
      "text/plain": [
       "         Date Time (UTC) Booster_Version  Launch_Site  \\\n",
       "0  2010-04-06   18:45:00  F9 v1.0  B0003  CCAFS LC-40   \n",
       "1  2010-08-12   15:43:00  F9 v1.0  B0004  CCAFS LC-40   \n",
       "2  2012-05-22   07:44:00  F9 v1.0  B0005  CCAFS LC-40   \n",
       "3  2012-08-10   00:35:00  F9 v1.0  B0006  CCAFS LC-40   \n",
       "4  2013-01-03   15:10:00  F9 v1.0  B0007  CCAFS LC-40   \n",
       "5  2013-09-29   16:00:00  F9 v1.1  B1003  VAFB SLC-4E   \n",
       "6  2013-03-12   22:41:00         F9 v1.1  CCAFS LC-40   \n",
       "7  2014-06-01   22:06:00         F9 v1.1  CCAFS LC-40   \n",
       "8  2014-04-18   19:25:00         F9 v1.1  CCAFS LC-40   \n",
       "9  2014-07-14   15:15:00         F9 v1.1  CCAFS LC-40   \n",
       "\n",
       "                                             Payload  PAYLOAD_MASS__KG_  \\\n",
       "0               Dragon Spacecraft Qualification Unit                  0   \n",
       "1  Dragon demo flight C1, two CubeSats, barrel of...                  0   \n",
       "2                              Dragon demo flight C2                525   \n",
       "3                                       SpaceX CRS-1                500   \n",
       "4                                       SpaceX CRS-2                677   \n",
       "5                                           CASSIOPE                500   \n",
       "6                                              SES-8               3170   \n",
       "7                                          Thaicom 6               3325   \n",
       "8                                       SpaceX CRS-3               2296   \n",
       "9            OG2 Mission 1  6 Orbcomm-OG2 satellites               1316   \n",
       "\n",
       "       Orbit         Customer Mission_Outcome       Landing_Outcome  \n",
       "0        LEO           SpaceX         Success   Failure (parachute)  \n",
       "1  LEO (ISS)  NASA (COTS) NRO         Success   Failure (parachute)  \n",
       "2  LEO (ISS)      NASA (COTS)         Success            No attempt  \n",
       "3  LEO (ISS)       NASA (CRS)         Success            No attempt  \n",
       "4  LEO (ISS)       NASA (CRS)         Success            No attempt  \n",
       "5  Polar LEO              MDA         Success  Uncontrolled (ocean)  \n",
       "6        GTO              SES         Success            No attempt  \n",
       "7        GTO          Thaicom         Success            No attempt  \n",
       "8  LEO (ISS)       NASA (CRS)         Success    Controlled (ocean)  \n",
       "9        LEO          Orbcomm         Success    Controlled (ocean)  "
      ]
     },
     "execution_count": 34,
     "metadata": {},
     "output_type": "execute_result"
    }
   ],
   "source": [
    "import pandas as pd\n",
    "df = pd.read_csv(\"https://cf-courses-data.s3.us.cloud-object-storage.appdomain.cloud/IBM-DS0321EN-SkillsNetwork/labs/module_2/data/Spacex.csv\")\n",
    "df.to_sql(\"SPACEXTBL\", con, if_exists='replace', index=False,method=\"multi\")\n",
    "df.head(10)"
   ]
  },
  {
   "cell_type": "markdown",
   "metadata": {},
   "source": [
    "**Note:This below code is added to remove blank rows from table**\n"
   ]
  },
  {
   "cell_type": "code",
   "execution_count": 27,
   "metadata": {
    "tags": []
   },
   "outputs": [
    {
     "name": "stdout",
     "output_type": "stream",
     "text": [
      " * sqlite:///my_data1.db\n",
      "(sqlite3.OperationalError) table SPACEXTABLE already exists\n",
      "[SQL: create table SPACEXTABLE as select * from SPACEXTBL where Date is not null]\n",
      "(Background on this error at: http://sqlalche.me/e/e3q8)\n"
     ]
    }
   ],
   "source": [
    "%sql create table SPACEXTABLE as select * from SPACEXTBL where Date is not null\n",
    "\n"
   ]
  },
  {
   "cell_type": "markdown",
   "metadata": {
    "tags": []
   },
   "source": [
    "## Tasks\n",
    "\n",
    "Now write and execute SQL queries to solve the assignment tasks.\n",
    "\n",
    "**Note: If the column names are in mixed case enclose it in double quotes\n",
    "   For Example \"Landing_Outcome\"**\n",
    "\n",
    "### Task 1\n",
    "\n",
    "\n",
    "\n",
    "\n",
    "##### Display the names of the unique launch sites  in the space mission\n"
   ]
  },
  {
   "cell_type": "code",
   "execution_count": 8,
   "metadata": {
    "tags": []
   },
   "outputs": [
    {
     "name": "stdout",
     "output_type": "stream",
     "text": [
      "CCAFS LC-40\n",
      "CCAFS LC-40\n",
      "CCAFS LC-40\n",
      "CCAFS LC-40\n",
      "CCAFS LC-40\n",
      "VAFB SLC-4E\n",
      "CCAFS LC-40\n",
      "CCAFS LC-40\n",
      "CCAFS LC-40\n",
      "CCAFS LC-40\n",
      "CCAFS LC-40\n",
      "CCAFS LC-40\n",
      "CCAFS LC-40\n",
      "CCAFS LC-40\n",
      "CCAFS LC-40\n",
      "CCAFS LC-40\n",
      "CCAFS LC-40\n",
      "CCAFS LC-40\n",
      "CCAFS LC-40\n",
      "CCAFS LC-40\n",
      "VAFB SLC-4E\n",
      "CCAFS LC-40\n",
      "CCAFS LC-40\n",
      "CCAFS LC-40\n",
      "CCAFS LC-40\n",
      "CCAFS LC-40\n",
      "CCAFS LC-40\n",
      "CCAFS LC-40\n",
      "VAFB SLC-4E\n",
      "KSC LC-39A\n",
      "KSC LC-39A\n",
      "KSC LC-39A\n",
      "KSC LC-39A\n",
      "KSC LC-39A\n",
      "KSC LC-39A\n",
      "KSC LC-39A\n",
      "VAFB SLC-4E\n",
      "KSC LC-39A\n",
      "KSC LC-39A\n",
      "VAFB SLC-4E\n",
      "KSC LC-39A\n",
      "VAFB SLC-4E\n",
      "KSC LC-39A\n",
      "KSC LC-39A\n",
      "CCAFS SLC-40\n",
      "VAFB SLC-4E\n",
      "CCAFS SLC-40\n",
      "CCAFS SLC-40\n",
      "VAFB SLC-4E\n",
      "CCAFS SLC-40\n",
      "VAFB SLC-4E\n",
      "CCAFS SLC-40\n",
      "CCAFS SLC-40\n",
      "KSC LC-39A\n",
      "VAFB SLC-4E\n",
      "CCAFS SLC-40\n",
      "CCAFS SLC-40\n",
      "CCAFS SLC-40\n",
      "VAFB SLC-4E\n",
      "CCAFS SLC-40\n",
      "CCAFS SLC-40\n",
      "VAFB SLC-4E\n",
      "KSC LC-39A\n",
      "VAFB SLC-4E\n",
      "CCAFS SLC-40\n",
      "CCAFS SLC-40\n",
      "VAFB SLC-4E\n",
      "CCAFS SLC-40\n",
      "KSC LC-39A\n",
      "CCAFS SLC-40\n",
      "CCAFS SLC-40\n",
      "VAFB SLC-4E\n",
      "CCAFS SLC-40\n",
      "CCAFS SLC-40\n",
      "CCAFS SLC-40\n",
      "CCAFS SLC-40\n",
      "CCAFS SLC-40\n",
      "CCAFS SLC-40\n",
      "KSC LC-39A\n",
      "CCAFS SLC-40\n",
      "CCAFS SLC-40\n",
      "CCAFS SLC-40\n",
      "KSC LC-39A\n",
      "KSC LC-39A\n",
      "KSC LC-39A\n",
      "CCAFS SLC-40\n",
      "CCAFS SLC-40\n",
      "CCAFS SLC-40\n",
      "CCAFS SLC-40\n",
      "KSC LC-39A\n",
      "CCAFS SLC-40\n",
      "CCAFS SLC-40\n",
      "KSC LC-39A\n",
      "KSC LC-39A\n",
      "KSC LC-39A\n",
      "CCAFS SLC-40\n",
      "CCAFS SLC-40\n",
      "KSC LC-39A\n",
      "VAFB SLC-4E\n",
      "CCAFS SLC-40\n",
      "KSC LC-39A\n"
     ]
    }
   ],
   "source": [
    "import sqlite3\n",
    "\n",
    "# Établir une connexion à la base de données SQLite\n",
    "conn = sqlite3.connect(\"my_data1.db\")\n",
    "\n",
    "# Créer un curseur pour exécuter des requêtes SQL\n",
    "cur = conn.cursor()\n",
    "\n",
    "# Exécuter la requête SQL pour sélectionner la colonne \"ma_colonne\"\n",
    "cur.execute(\" SELECT Launch_Site FROM SPACEXTABLE ;\")\n",
    "\n",
    "# Récupérer les résultats de la requête\n",
    "resultats = cur.fetchall()\n",
    "\n",
    "# Parcourir les résultats\n",
    "for ligne in resultats:\n",
    "    print(ligne[0])  # La colonne sélectionnée est à l'indice 0\n",
    "\n",
    "# Fermer la connexion à la base de données\n",
    "conn.close()\n"
   ]
  },
  {
   "cell_type": "markdown",
   "metadata": {},
   "source": [
    "\n",
    "### Task 2\n",
    "\n",
    "\n",
    "#####  Display 5 records where launch sites begin with the string 'CCA' \n"
   ]
  },
  {
   "cell_type": "code",
   "execution_count": 9,
   "metadata": {
    "tags": []
   },
   "outputs": [
    {
     "name": "stdout",
     "output_type": "stream",
     "text": [
      "CCAFS LC-40\n",
      "CCAFS LC-40\n",
      "CCAFS LC-40\n",
      "CCAFS LC-40\n",
      "CCAFS LC-40\n"
     ]
    }
   ],
   "source": [
    "import sqlite3\n",
    "\n",
    "# Établir une connexion à la base de données SQLite\n",
    "conn = sqlite3.connect(\"my_data1.db\")\n",
    "\n",
    "# Créer un curseur pour exécuter des requêtes SQL\n",
    "cur = conn.cursor()\n",
    "\n",
    "# Exécuter la requête SQL pour sélectionner la colonne \"ma_colonne\"\n",
    "cur.execute(\" SELECT Launch_Site FROM SPACEXTABLE WHERE Launch_Site LIKE '%CCA%' LIMIT 5; \")\n",
    "\n",
    "# Récupérer les résultats de la requête\n",
    "resultats = cur.fetchall()\n",
    "\n",
    "# Parcourir les résultats\n",
    "for ligne in resultats:\n",
    "    print(ligne[0])  # La colonne sélectionnée est à l'indice 0\n",
    "\n",
    "# Fermer la connexion à la base de données\n",
    "conn.close()"
   ]
  },
  {
   "cell_type": "markdown",
   "metadata": {},
   "source": [
    "### Task 3\n",
    "\n",
    "\n",
    "\n",
    "\n",
    "##### Display the total payload mass carried by boosters launched by NASA (CRS)\n"
   ]
  },
  {
   "cell_type": "code",
   "execution_count": 10,
   "metadata": {
    "tags": []
   },
   "outputs": [
    {
     "name": "stdout",
     "output_type": "stream",
     "text": [
      "45596\n"
     ]
    }
   ],
   "source": [
    "import sqlite3\n",
    "\n",
    "# Établir une connexion à la base de données SQLite\n",
    "conn = sqlite3.connect(\"my_data1.db\")\n",
    "\n",
    "# Créer un curseur pour exécuter des requêtes SQL\n",
    "cur = conn.cursor()\n",
    "\n",
    "# Exécuter la requête SQL pour sélectionner la colonne \"ma_colonne\"\n",
    "cur.execute(\" SELECT SUM(\\\"PAYLOAD_MASS__KG_\\\") FROM SPACEXTABLE WHERE Customer = 'NASA (CRS)' ; \")\n",
    "\n",
    "# Récupérer les résultats de la requête\n",
    "resultats = cur.fetchall()\n",
    "\n",
    "# Parcourir les résultats\n",
    "for ligne in resultats:\n",
    "    print(ligne[0])  # La colonne sélectionnée est à l'indice 0\n",
    "\n",
    "# Fermer la connexion à la base de données\n",
    "conn.close()\n"
   ]
  },
  {
   "cell_type": "markdown",
   "metadata": {},
   "source": [
    "### Task 4\n",
    "\n",
    "\n",
    "\n",
    "\n",
    "##### Display average payload mass carried by booster version F9 v1.1\n"
   ]
  },
  {
   "cell_type": "code",
   "execution_count": 11,
   "metadata": {
    "tags": []
   },
   "outputs": [
    {
     "name": "stdout",
     "output_type": "stream",
     "text": [
      "CASSIOPE\n",
      "SES-8\n",
      "Thaicom 6\n",
      "SpaceX CRS-3\n",
      "OG2 Mission 1  6 Orbcomm-OG2 satellites\n",
      "AsiaSat 8\n",
      "AsiaSat 6\n",
      "SpaceX CRS-4\n",
      "SpaceX CRS-5\n",
      "DSCOVR\n",
      "ABS-3A Eutelsat 115 West B\n",
      "SpaceX CRS-6\n",
      "Turkmen 52 / MonacoSAT\n",
      "SpaceX CRS-7\n",
      "Jason-3\n"
     ]
    }
   ],
   "source": [
    "import sqlite3\n",
    "\n",
    "# Établir une connexion à la base de données SQLite\n",
    "conn = sqlite3.connect(\"my_data1.db\")\n",
    "\n",
    "# Créer un curseur pour exécuter des requêtes SQL\n",
    "cur = conn.cursor()\n",
    "\n",
    "# Exécuter la requête SQL pour sélectionner la colonne \"ma_colonne\"\n",
    "cur.execute(\" SELECT Payload FROM SPACEXTABLE WHERE Booster_Version LIKE '%F9 v1.1%' ; \")\n",
    "\n",
    "# Récupérer les résultats de la requête\n",
    "resultats = cur.fetchall()\n",
    "\n",
    "# Parcourir les résultats\n",
    "for ligne in resultats:\n",
    "    print(ligne[0])  # La colonne sélectionnée est à l'indice 0\n",
    "\n",
    "# Fermer la connexion à la base de données\n",
    "conn.close()\n"
   ]
  },
  {
   "cell_type": "markdown",
   "metadata": {},
   "source": [
    "### Task 5\n",
    "\n",
    "##### List the date when the first succesful landing outcome in ground pad was acheived.\n",
    "\n",
    "\n",
    "_Hint:Use min function_ \n"
   ]
  },
  {
   "cell_type": "code",
   "execution_count": 20,
   "metadata": {
    "tags": []
   },
   "outputs": [
    {
     "name": "stdout",
     "output_type": "stream",
     "text": [
      "2015-12-22\n"
     ]
    }
   ],
   "source": [
    "\n",
    "import sqlite3\n",
    "\n",
    "# Établir une connexion à la base de données SQLite\n",
    "conn = sqlite3.connect(\"my_data1.db\")\n",
    "\n",
    "# Créer un curseur pour exécuter des requêtes SQL\n",
    "cur = conn.cursor()\n",
    "\n",
    "# Exécuter la requête SQL pour sélectionner la colonne \"ma_colonne\"\n",
    "cur.execute(\" SELECT MIN(Date) FROM SPACEXTABLE WHERE Landing_Outcome = 'Success (ground pad)' \")\n",
    "\n",
    "# Récupérer les résultats de la requête\n",
    "resultats = cur.fetchall()\n",
    "\n",
    " # La colonne sélectionnée est à l'indice 0\n",
    "for ligne in resultats:\n",
    "    print(ligne[0]) \n",
    "# Fermer la connexion à la base de données\n",
    "conn.close()\n"
   ]
  },
  {
   "cell_type": "markdown",
   "metadata": {},
   "source": [
    "### Task 6\n",
    "\n",
    "##### List the names of the boosters which have success in drone ship and have payload mass greater than 4000 but less than 6000\n"
   ]
  },
  {
   "cell_type": "code",
   "execution_count": 31,
   "metadata": {
    "tags": []
   },
   "outputs": [
    {
     "name": "stdout",
     "output_type": "stream",
     "text": [
      "F9 v1.1\n",
      "F9 v1.1 B1011\n",
      "F9 v1.1 B1014\n",
      "F9 v1.1 B1016\n",
      "F9 FT B1020\n",
      "F9 FT B1022\n",
      "F9 FT B1026\n",
      "F9 FT B1030\n",
      "F9 FT  B1021.2\n",
      "F9 FT B1032.1\n",
      "F9 B4 B1040.1\n",
      "F9 FT  B1031.2\n",
      "F9 B4 B1043.1\n",
      "F9 FT  B1032.2\n",
      "F9 B4  B1040.2\n",
      "F9 B5 B1046.2\n",
      "F9 B5 B1047.2\n",
      "F9 B5B1054\n",
      "F9 B5 B1048.3\n",
      "F9 B5 B1051.2 \n",
      "F9 B5B1060.1\n",
      "F9 B5 B1058.2 \n",
      "F9 B5B1062.1\n"
     ]
    }
   ],
   "source": [
    "\n",
    "import sqlite3\n",
    "\n",
    "# Établir une connexion à la base de données SQLite\n",
    "conn = sqlite3.connect(\"my_data1.db\")\n",
    "\n",
    "# Créer un curseur pour exécuter des requêtes SQL\n",
    "cur = conn.cursor()\n",
    "\n",
    "# Exécuter la requête SQL pour sélectionner la colonne \"ma_colonne\"\n",
    "cur.execute(\" SELECT Booster_Version FROM SPACEXTABLE WHERE PAYLOAD_MASS__KG_<6000 AND PAYLOAD_MASS__KG_>4000 \")\n",
    "\n",
    "# Récupérer les résultats de la requête\n",
    "resultats = cur.fetchall()\n",
    "\n",
    " # La colonne sélectionnée est à l'indice 0\n",
    "for ligne in resultats:\n",
    "    print(ligne[0]) \n",
    "# Fermer la connexion à la base de données\n",
    "conn.close()"
   ]
  },
  {
   "cell_type": "markdown",
   "metadata": {},
   "source": [
    "### Task 7\n",
    "\n",
    "\n",
    "\n",
    "\n",
    "##### List the total number of successful and failure mission outcomes\n"
   ]
  },
  {
   "cell_type": "code",
   "execution_count": 36,
   "metadata": {
    "tags": []
   },
   "outputs": [
    {
     "name": "stdout",
     "output_type": "stream",
     "text": [
      "The number of success mission is:  98\n",
      "The number of failure mission is:  3\n"
     ]
    }
   ],
   "source": [
    "import sqlite3\n",
    "\n",
    "# Établir une connexion à la base de données SQLite\n",
    "conn = sqlite3.connect(\"my_data1.db\")\n",
    "\n",
    "# Créer un curseur pour exécuter des requêtes SQL\n",
    "cur = conn.cursor()\n",
    "\n",
    "# Exécuter la requête SQL pour sélectionner la colonne \"ma_colonne\"\n",
    "cur.execute(\" SELECT Mission_Outcome FROM SPACEXTABLE  \")\n",
    "\n",
    "# Récupérer les résultats de la requête\n",
    "resultats = cur.fetchall()\n",
    "\n",
    "i=0\n",
    "j=0\n",
    "for ligne in resultats:\n",
    "    \n",
    "    if ligne[0] == 'Success':\n",
    "        i=i+1\n",
    "    else:\n",
    "        j=j+1\n",
    "# Fermer la connexion à la base de données\n",
    "print(\"The number of success mission is: \",i)\n",
    "print(\"The number of failure mission is: \",j)\n",
    "\n",
    "conn.close()"
   ]
  },
  {
   "cell_type": "markdown",
   "metadata": {},
   "source": [
    "### Task 8\n",
    "\n",
    "\n",
    "\n",
    "##### List the   names of the booster_versions which have carried the maximum payload mass. Use a subquery\n"
   ]
  },
  {
   "cell_type": "code",
   "execution_count": 39,
   "metadata": {
    "tags": []
   },
   "outputs": [
    {
     "name": "stdout",
     "output_type": "stream",
     "text": [
      "F9 B5 B1048.4\n",
      "F9 B5 B1049.4\n",
      "F9 B5 B1051.3\n",
      "F9 B5 B1056.4\n",
      "F9 B5 B1048.5\n",
      "F9 B5 B1051.4\n",
      "F9 B5 B1049.5\n",
      "F9 B5 B1060.2 \n",
      "F9 B5 B1058.3 \n",
      "F9 B5 B1051.6\n",
      "F9 B5 B1060.3\n",
      "F9 B5 B1049.7 \n"
     ]
    }
   ],
   "source": [
    "import sqlite3\n",
    "\n",
    "# Établir une connexion à la base de données SQLite\n",
    "conn = sqlite3.connect(\"my_data1.db\")\n",
    "\n",
    "# Créer un curseur pour exécuter des requêtes SQL\n",
    "cur = conn.cursor()\n",
    "\n",
    "# Exécuter la requête SQL pour sélectionner la colonne \"ma_colonne\"\n",
    "cur.execute(\" SELECT Booster_Version FROM SPACEXTABLE WHERE  PAYLOAD_MASS__KG_ = (SELECT MAX( PAYLOAD_MASS__KG_) FROM SPACEXTABLE); \")\n",
    "\n",
    "# Récupérer les résultats de la requête\n",
    "resultats = cur.fetchall()\n",
    "\n",
    "for ligne in resultats:\n",
    "    print(ligne[0])\n",
    "# Fermer la connexion à la base de données\n",
    "conn.close()"
   ]
  },
  {
   "cell_type": "markdown",
   "metadata": {},
   "source": [
    "### Task 9\n",
    "\n",
    "\n",
    "##### List the records which will display the month names, failure landing_outcomes in drone ship ,booster versions, launch_site for the months in year 2015.\n",
    "\n",
    "**Note: SQLLite does not support monthnames. So you need to use  substr(Date, 4, 2) as month to get the months and substr(Date,7,4)='2015' for year.**\n"
   ]
  },
  {
   "cell_type": "code",
   "execution_count": 47,
   "metadata": {
    "tags": []
   },
   "outputs": [
    {
     "name": "stdout",
     "output_type": "stream",
     "text": [
      "[('10', 'Failure (drone ship)', 'F9 v1.1 B1012', 'CCAFS LC-40'), ('04', 'Failure (drone ship)', 'F9 v1.1 B1015', 'CCAFS LC-40')]\n",
      "10\n",
      "04\n"
     ]
    }
   ],
   "source": [
    "import sqlite3\n",
    "\n",
    "# Établir une connexion à la base de données SQLite\n",
    "conn = sqlite3.connect(\"my_data1.db\")\n",
    "\n",
    "# Créer un curseur pour exécuter des requêtes SQL\n",
    "cur = conn.cursor()\n",
    "\n",
    "# Exécuter la requête SQL pour sélectionner la colonne \"ma_colonne\"\n",
    "cur.execute(\"SELECT strftime('%m', Date) AS mois,Landing_Outcome AS resultat_atterrissage,Booster_Version AS versions_booster,launch_site AS site_lancement FROM SPACEXTABLE WHERE strftime('%Y', Date) = '2015' AND Landing_Outcome = 'Failure (drone ship)';\")\n",
    "\n",
    "# Récupérer les résultats de la requête\n",
    "resultats = cur.fetchall()\n",
    "print(resultats)\n",
    "\n",
    "for ligne in resultats:\n",
    "    print(ligne[0])\n",
    "# Fermer la connexion à la base de données\n",
    "conn.close()"
   ]
  },
  {
   "cell_type": "markdown",
   "metadata": {},
   "source": [
    "### Task 10\n",
    "\n",
    "\n",
    "\n",
    "\n",
    "##### Rank the count of landing outcomes (such as Failure (drone ship) or Success (ground pad)) between the date 2010-06-04 and 2017-03-20, in descending order.\n"
   ]
  },
  {
   "cell_type": "code",
   "execution_count": 48,
   "metadata": {
    "tags": []
   },
   "outputs": [
    {
     "name": "stdout",
     "output_type": "stream",
     "text": [
      "[('No attempt', 10), ('Success (ground pad)', 5), ('Success (drone ship)', 5), ('Failure (drone ship)', 5), ('Controlled (ocean)', 3), ('Uncontrolled (ocean)', 2), ('Precluded (drone ship)', 1), ('Failure (parachute)', 1)]\n",
      "No attempt\n",
      "Success (ground pad)\n",
      "Success (drone ship)\n",
      "Failure (drone ship)\n",
      "Controlled (ocean)\n",
      "Uncontrolled (ocean)\n",
      "Precluded (drone ship)\n",
      "Failure (parachute)\n"
     ]
    }
   ],
   "source": [
    "import sqlite3\n",
    "\n",
    "# Établir une connexion à la base de données SQLite\n",
    "conn = sqlite3.connect(\"my_data1.db\")\n",
    "\n",
    "# Créer un curseur pour exécuter des requêtes SQL\n",
    "cur = conn.cursor()\n",
    "\n",
    "# Exécuter la requête SQL pour sélectionner la colonne \"ma_colonne\"\n",
    "cur.execute(\" SELECT Landing_Outcome, COUNT(*) AS Nombre_Atterrissages FROM SPACEXTABLE WHERE Date BETWEEN '2010-06-04' AND '2017-03-20' GROUP BY Landing_Outcome ORDER BY Nombre_Atterrissages DESC;\")\n",
    "\n",
    "\n",
    "# Récupérer les résultats de la requête\n",
    "resultats = cur.fetchall()\n",
    "print(resultats)\n",
    "\n",
    "for ligne in resultats:\n",
    "    print(ligne[0])\n",
    "# Fermer la connexion à la base de données\n",
    "conn.close()"
   ]
  },
  {
   "cell_type": "markdown",
   "metadata": {},
   "source": [
    "### Reference Links\n",
    "\n",
    "* <a href =\"https://cf-courses-data.s3.us.cloud-object-storage.appdomain.cloud/IBMDeveloperSkillsNetwork-DB0201EN-SkillsNetwork/labs/Labs_Coursera_V5/labs/Lab%20-%20String%20Patterns%20-%20Sorting%20-%20Grouping/instructional-labs.md.html?origin=www.coursera.org\">Hands-on Lab : String Patterns, Sorting and Grouping</a>  \n",
    "\n",
    "*  <a  href=\"https://cf-courses-data.s3.us.cloud-object-storage.appdomain.cloud/IBMDeveloperSkillsNetwork-DB0201EN-SkillsNetwork/labs/Labs_Coursera_V5/labs/Lab%20-%20Built-in%20functions%20/Hands-on_Lab__Built-in_Functions.md.html?origin=www.coursera.org\">Hands-on Lab: Built-in functions</a>\n",
    "\n",
    "*  <a  href=\"https://cf-courses-data.s3.us.cloud-object-storage.appdomain.cloud/IBMDeveloperSkillsNetwork-DB0201EN-SkillsNetwork/labs/Labs_Coursera_V5/labs/Lab%20-%20Sub-queries%20and%20Nested%20SELECTs%20/instructional-labs.md.html?origin=www.coursera.org\">Hands-on Lab : Sub-queries and Nested SELECT Statements</a>\n",
    "\n",
    "*   <a href=\"https://cf-courses-data.s3.us.cloud-object-storage.appdomain.cloud/IBMDeveloperSkillsNetwork-DB0201EN-SkillsNetwork/labs/Module%205/DB0201EN-Week3-1-3-SQLmagic.ipynb\">Hands-on Tutorial: Accessing Databases with SQL magic</a>\n",
    "\n",
    "*  <a href= \"https://cf-courses-data.s3.us.cloud-object-storage.appdomain.cloud/IBMDeveloperSkillsNetwork-DB0201EN-SkillsNetwork/labs/Module%205/DB0201EN-Week3-1-4-Analyzing.ipynb\">Hands-on Lab: Analyzing a real World Data Set</a>\n",
    "\n",
    "\n"
   ]
  },
  {
   "cell_type": "markdown",
   "metadata": {},
   "source": [
    "## Author(s)\n",
    "\n",
    "<h4> Lakshmi Holla </h4>\n"
   ]
  },
  {
   "cell_type": "markdown",
   "metadata": {},
   "source": [
    "## Other Contributors\n",
    "\n",
    "<h4> Rav Ahuja </h4>\n"
   ]
  },
  {
   "cell_type": "markdown",
   "metadata": {},
   "source": [
    "## Change log\n",
    "| Date | Version | Changed by | Change Description |\n",
    "|------|--------|--------|---------|\n",
    "| 2021-07-09 | 0.2 |Lakshmi Holla | Changes made in magic sql|\n",
    "| 2021-05-20 | 0.1 |Lakshmi Holla | Created Initial Version |\n"
   ]
  },
  {
   "cell_type": "markdown",
   "metadata": {},
   "source": [
    "## <h3 align=\"center\"> © IBM Corporation 2021. All rights reserved. <h3/>\n"
   ]
  }
 ],
 "metadata": {
  "kernelspec": {
   "display_name": "Python",
   "language": "python",
   "name": "conda-env-python-py"
  },
  "language_info": {
   "codemirror_mode": {
    "name": "ipython",
    "version": 3
   },
   "file_extension": ".py",
   "mimetype": "text/x-python",
   "name": "python",
   "nbconvert_exporter": "python",
   "pygments_lexer": "ipython3",
   "version": "3.7.12"
  }
 },
 "nbformat": 4,
 "nbformat_minor": 4
}
